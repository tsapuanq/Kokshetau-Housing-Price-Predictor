{
 "cells": [
  {
   "cell_type": "code",
   "execution_count": 1,
   "id": "2056571a-7ac5-4086-b035-34722efcdda6",
   "metadata": {},
   "outputs": [],
   "source": [
    "import pandas as pd"
   ]
  },
  {
   "cell_type": "code",
   "execution_count": 2,
   "id": "a7077ccb-a9d9-491a-98ba-7dc6356bf609",
   "metadata": {},
   "outputs": [
    {
     "name": "stdout",
     "output_type": "stream",
     "text": [
      "<class 'pandas.core.frame.DataFrame'>\n",
      "Index: 5122 entries, 0 to 5270\n",
      "Data columns (total 10 columns):\n",
      " #   Column          Non-Null Count  Dtype  \n",
      "---  ------          --------------  -----  \n",
      " 0   price           5122 non-null   float64\n",
      " 1   area            5122 non-null   float64\n",
      " 2   flat_toilets    5122 non-null   object \n",
      " 3   balcony         5122 non-null   object \n",
      " 4   current_floors  5122 non-null   float64\n",
      " 5   total_floors    5122 non-null   float64\n",
      " 6   ceiling         5122 non-null   float64\n",
      " 7   dorm            5122 non-null   object \n",
      " 8   mortgage        5122 non-null   object \n",
      " 9   year            5122 non-null   int64  \n",
      "dtypes: float64(5), int64(1), object(4)\n",
      "memory usage: 440.2+ KB\n"
     ]
    }
   ],
   "source": [
    "df = pd.read_csv('apartment_price_in_Kokshetau_kaggle.csv')\n",
    "df.drop(columns=['Unnamed: 0', \n",
    "                 'is_in_kokshetau', 'street', 'latitude', 'longitude', 'distance_to_center', 'repair_status', 'type_of_house', 'distance_to_nearest_school', 'distance_to_nearest_kindergarten', 'distance_to_nearest_pharmacy'], axis=1, inplace=True)\n",
    "df['area'] = df['area'].str.split(',').str[0]\n",
    "df['area'] = df['area'].astype(float)\n",
    "df = df[df['year'] != 2025]\n",
    "\n",
    "df.info()"
   ]
  },
  {
   "cell_type": "code",
   "execution_count": 3,
   "id": "14147c12-4479-4186-8d9b-84536d24008b",
   "metadata": {},
   "outputs": [
    {
     "name": "stdout",
     "output_type": "stream",
     "text": [
      "            price   area   flat_toilets balcony  current_floors  total_floors  \\\n",
      "2518  185000000.0   62.6     раздельный     нет             1.0           5.0   \n",
      "86    180800000.0  272.0     раздельный     нет             9.0          10.0   \n",
      "1909  105000000.0  142.9     раздельный     нет             7.0           9.0   \n",
      "18    101601245.0  141.5     раздельный     нет             9.0          10.0   \n",
      "702   100000000.0  151.0     раздельный     нет             3.0           9.0   \n",
      "211   100000000.0  141.0     раздельный     нет             2.0           9.0   \n",
      "799   100000000.0  141.8     раздельный     нет             5.0           9.0   \n",
      "648   100000000.0  156.0  2 с/у и более     нет            10.0          13.0   \n",
      "638   100000000.0  141.0  2 с/у и более     нет             2.0           9.0   \n",
      "4175  100000000.0  151.0     раздельный     нет             3.0           9.0   \n",
      "\n",
      "      ceiling dorm mortgage  year  \n",
      "2518      2.7  нет      нет  1992  \n",
      "86        3.4  нет      нет  2020  \n",
      "1909      2.7  нет      нет  2023  \n",
      "18        3.4  нет      нет  2020  \n",
      "702       3.0  нет      нет  2023  \n",
      "211       2.7  нет      нет  2021  \n",
      "799       3.0  нет      нет  2020  \n",
      "648       3.0  нет      нет  2024  \n",
      "638       3.0  нет      нет  2021  \n",
      "4175      3.0  нет      нет  2023  \n",
      "            price   area   flat_toilets                        balcony  \\\n",
      "894    33000000.0  765.0    совмещенный                            нет   \n",
      "582     9500000.0  321.0    совмещенный                            нет   \n",
      "1069   90000000.0  300.0     раздельный                            нет   \n",
      "86    180800000.0  272.0     раздельный                            нет   \n",
      "1150   50000000.0  180.9    совмещенный                         лоджия   \n",
      "3444   48000000.0  175.0     раздельный                            нет   \n",
      "667    48000000.0  170.0     раздельный                            нет   \n",
      "3405   48000000.0  170.0  2 с/у и более  несколько балконов или лоджий   \n",
      "809    60000000.0  167.3  2 с/у и более                            нет   \n",
      "4498   85000000.0  160.0    совмещенный                            нет   \n",
      "\n",
      "      current_floors  total_floors  ceiling dorm mortgage  year  \n",
      "894              9.0           9.0      2.7  нет      нет  2022  \n",
      "582              1.0           5.0      2.7  нет      нет  1980  \n",
      "1069             1.0           3.0      3.6  нет      нет  2024  \n",
      "86               9.0          10.0      3.4  нет      нет  2020  \n",
      "1150             7.0          10.0      2.7  нет      нет  2022  \n",
      "3444             4.0           4.0      2.7  нет      нет  2011  \n",
      "667              4.0           4.0      2.7  нет      нет  2011  \n",
      "3405             4.0           4.0      3.0  нет      нет  2011  \n",
      "809              5.0           5.0      3.0  нет      нет  2015  \n",
      "4498             6.0          11.0      2.8  нет      нет  2022  \n",
      "            price   area   flat_toilets                        balcony  \\\n",
      "4870   18000000.0   65.0     раздельный                         лоджия   \n",
      "1309   34000000.0   92.0  2 с/у и более                            нет   \n",
      "3051   14700000.0   45.0    совмещенный                            нет   \n",
      "559    19500000.0   58.0    совмещенный                            нет   \n",
      "4624   18500000.0   39.0    совмещенный                            нет   \n",
      "3833    8900000.0   30.0    совмещенный                            нет   \n",
      "1828   22500000.0   61.0     раздельный  несколько балконов или лоджий   \n",
      "1069   90000000.0  300.0     раздельный                            нет   \n",
      "18    101601245.0  141.5     раздельный                            нет   \n",
      "144    79198709.0  110.3     раздельный                            нет   \n",
      "\n",
      "      current_floors  total_floors  ceiling dorm mortgage  year  \n",
      "4870             5.0           5.0    100.0  нет      нет  1989  \n",
      "1309             6.0           9.0     28.0  нет      нет  2018  \n",
      "3051             4.0           5.0     27.0  нет      нет  2024  \n",
      "559              6.0           9.0     27.0  нет      нет  2014  \n",
      "4624             6.0           9.0     27.0  нет      нет  2018  \n",
      "3833             1.0           2.0     25.0  нет      нет  1969  \n",
      "1828             4.0           6.0     25.0  нет      нет  1992  \n",
      "1069             1.0           3.0      3.6  нет      нет  2024  \n",
      "18               9.0          10.0      3.4  нет      нет  2020  \n",
      "144              9.0          10.0      3.4  нет      нет  2020  \n"
     ]
    }
   ],
   "source": [
    "top_10_price = df.sort_values(by='price', ascending=False).head(10)\n",
    "top_10_area = df.sort_values(by='area', ascending=False).head(10)\n",
    "top_10_ceiling = df.sort_values(by='ceiling', ascending=False).head(10)\n",
    "print(top_10_price)\n",
    "print(top_10_area)\n",
    "print(top_10_ceiling)"
   ]
  },
  {
   "cell_type": "code",
   "execution_count": 4,
   "id": "7d3004cc-0bd0-466b-91b2-887b589b328e",
   "metadata": {},
   "outputs": [],
   "source": [
    "df = df.drop(index=[2518, 582, 4870, 1309, 3051, 559, 4624, 3833, 1828, 852])\n",
    "df.reset_index(drop=True, inplace=True)"
   ]
  },
  {
   "cell_type": "code",
   "execution_count": 5,
   "id": "293f8c3e-9ddd-4795-a11b-eba7fcfa364a",
   "metadata": {},
   "outputs": [
    {
     "name": "stdout",
     "output_type": "stream",
     "text": [
      "price             0\n",
      "area              0\n",
      "flat_toilets      0\n",
      "balcony           0\n",
      "current_floors    0\n",
      "total_floors      0\n",
      "ceiling           0\n",
      "dorm              0\n",
      "mortgage          0\n",
      "year              0\n",
      "dtype: int64\n"
     ]
    }
   ],
   "source": [
    "df['balcony'] = df['balcony'].apply(lambda x: 0 if x == 'нет' else 1)\n",
    "df['flat_toilets'] = df['flat_toilets'].apply(lambda x: 0 if x == 'нет' else 1)\n",
    "\n",
    "df['mortgage'] = df['mortgage'].map({'нет': 0, 'В залоге': 1})\n",
    "df['dorm'] = df['dorm'].map({'нет': 0, 'да': 1})\n",
    "\n",
    "print(df.isnull().sum())"
   ]
  },
  {
   "cell_type": "code",
   "execution_count": 6,
   "id": "1a28b22f-933b-4571-938b-85b781a3a92f",
   "metadata": {},
   "outputs": [],
   "source": [
    "#Create features \n",
    "df[\"age_of_building\"] = 2025 - df[\"year\"]  \n",
    "df[\"floor_ratio\"] = df[\"current_floors\"] / df[\"total_floors\"]  "
   ]
  },
  {
   "cell_type": "code",
   "execution_count": 7,
   "id": "c7a8206a-aeb2-4ac6-a6fa-01b24016449e",
   "metadata": {},
   "outputs": [
    {
     "ename": "SyntaxError",
     "evalue": "invalid syntax (1905453866.py, line 1)",
     "output_type": "error",
     "traceback": [
      "\u001b[1;36m  Cell \u001b[1;32mIn[7], line 1\u001b[1;36m\u001b[0m\n\u001b[1;33m    =from sklearn.model_selection import train_test_split\u001b[0m\n\u001b[1;37m    ^\u001b[0m\n\u001b[1;31mSyntaxError\u001b[0m\u001b[1;31m:\u001b[0m invalid syntax\n"
     ]
    }
   ],
   "source": [
    "=from sklearn.model_selection import train_test_split\n",
    "from sklearn.ensemble import RandomForestRegressor\n",
    "from sklearn.metrics import mean_absolute_error, mean_squared_error, r2_score\n",
    "\n",
    "X = df.drop(columns=['price'])  \n",
    "y = df['price']  \n",
    "\n",
    "X_train, X_test, y_train, y_test = train_test_split(X, y, test_size=0.2, random_state=42)\n",
    "model = RandomForestRegressor(max_depth=30, max_features= 'sqrt', min_samples_leaf= 1, min_samples_split=2, n_estimators= 300)\n",
    "\n",
    "model.fit(X_train, y_train)\n",
    "y_pred = model.predict(X_test)\n",
    "\n",
    "print(r2_score(y_test, y_pred))\n",
    "print(mean_absolute_error(y_test, y_pred))\n",
    "print(mean_squared_error(y_test, y_pred))"
   ]
  },
  {
   "cell_type": "code",
   "execution_count": null,
   "id": "32e236ce-481c-44d1-bd38-6f8b42247268",
   "metadata": {},
   "outputs": [],
   "source": [
    "import pickle\n",
    "with open(\"rf_model.pkl\", \"wb\") as f:\n",
    "    pickle.dump(model, f)\n"
   ]
  },
  {
   "cell_type": "code",
   "execution_count": null,
   "id": "cc29342d-cff5-4476-a5b9-56d6d1071b2b",
   "metadata": {},
   "outputs": [],
   "source": []
  }
 ],
 "metadata": {
  "kernelspec": {
   "display_name": "Python 3 (ipykernel)",
   "language": "python",
   "name": "python3"
  },
  "language_info": {
   "codemirror_mode": {
    "name": "ipython",
    "version": 3
   },
   "file_extension": ".py",
   "mimetype": "text/x-python",
   "name": "python",
   "nbconvert_exporter": "python",
   "pygments_lexer": "ipython3",
   "version": "3.11.7"
  }
 },
 "nbformat": 4,
 "nbformat_minor": 5
}
